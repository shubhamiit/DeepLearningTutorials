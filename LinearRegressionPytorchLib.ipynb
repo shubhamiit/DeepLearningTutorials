{
  "nbformat": 4,
  "nbformat_minor": 0,
  "metadata": {
    "colab": {
      "name": "LinearRegressionPytorchLib.ipynb",
      "provenance": [],
      "collapsed_sections": [],
      "authorship_tag": "ABX9TyP0WTbbMxwqwy0/pN32WtFb",
      "include_colab_link": true
    },
    "kernelspec": {
      "name": "python3",
      "display_name": "Python 3"
    },
    "language_info": {
      "name": "python"
    }
  },
  "cells": [
    {
      "cell_type": "markdown",
      "metadata": {
        "id": "view-in-github",
        "colab_type": "text"
      },
      "source": [
        "<a href=\"https://colab.research.google.com/github/shubhamiit/DeepLearningTutorials/blob/main/LinearRegressionPytorchLib.ipynb\" target=\"_parent\"><img src=\"https://colab.research.google.com/assets/colab-badge.svg\" alt=\"Open In Colab\"/></a>"
      ]
    },
    {
      "cell_type": "code",
      "execution_count": 1,
      "metadata": {
        "id": "nq1GbU3siKdi"
      },
      "outputs": [],
      "source": [
        "import torch\n",
        "import torch.nn as nn\n",
        "import numpy as np  "
      ]
    },
    {
      "cell_type": "code",
      "source": [
        "inputs = np.array([[73, 67, 43], \n",
        "                   [91, 88, 64], \n",
        "                   [87, 134, 58], \n",
        "                   [102, 43, 37], \n",
        "                   [69, 96, 70], \n",
        "                   [74, 66, 43], \n",
        "                   [91, 87, 65], \n",
        "                   [88, 134, 59], \n",
        "                   [101, 44, 37], \n",
        "                   [68, 96, 71], \n",
        "                   [73, 66, 44], \n",
        "                   [92, 87, 64], \n",
        "                   [87, 135, 57], \n",
        "                   [103, 43, 36], \n",
        "                   [68, 97, 70]], \n",
        "                  dtype='float32')\n",
        "\n",
        "# Targets (apples, oranges)\n",
        "targets = np.array([[56, 70], \n",
        "                    [81, 101], \n",
        "                    [119, 133], \n",
        "                    [22, 37], \n",
        "                    [103, 119],\n",
        "                    [57, 69], \n",
        "                    [80, 102], \n",
        "                    [118, 132], \n",
        "                    [21, 38], \n",
        "                    [104, 118], \n",
        "                    [57, 69], \n",
        "                    [82, 100], \n",
        "                    [118, 134], \n",
        "                    [20, 38], \n",
        "                    [102, 120]], \n",
        "                   dtype='float32')"
      ],
      "metadata": {
        "id": "aBaWZz3tomqW"
      },
      "execution_count": 2,
      "outputs": []
    },
    {
      "cell_type": "code",
      "source": [
        "# step 1 -  convert to tensor\n",
        "inputs = torch.from_numpy(inputs)\n",
        "targets = torch.from_numpy(targets)\n"
      ],
      "metadata": {
        "id": "FQn6aBaionmd"
      },
      "execution_count": 3,
      "outputs": []
    },
    {
      "cell_type": "code",
      "source": [
        "# step2 - prepare dataLoader \n",
        "from torch.utils.data import TensorDataset\n",
        "from torch.utils.data import DataLoader\n",
        "trainDS = TensorDataset(inputs,targets)\n",
        "batch_size = 5\n",
        "trainData =  DataLoader(trainDS,batch_size ,shuffle = True)\n",
        "\n",
        "# for x,y in trainData:\n",
        "#   print(x)\n",
        "#   print(y)\n",
        "#   # break"
      ],
      "metadata": {
        "id": "6jt9rEcLpQEx"
      },
      "execution_count": 4,
      "outputs": []
    },
    {
      "cell_type": "code",
      "source": [
        "#step3- initialize model internal state ,,  weight matrixs and bias matrix\n",
        "model = nn.Linear(3,2) "
      ],
      "metadata": {
        "id": "yzkKz15esREs"
      },
      "execution_count": 5,
      "outputs": []
    },
    {
      "cell_type": "code",
      "source": [
        "#step 4 ->  choose appropriate loss and optimization function\n",
        "import torch.nn.functional as F\n",
        "\n",
        "loss_func= F.mse_loss\n",
        "optimizer = torch.optim.SGD(model.parameters(),1e-5)\n",
        "\n"
      ],
      "metadata": {
        "id": "O9iVah0Xtp3L"
      },
      "execution_count": 12,
      "outputs": []
    },
    {
      "cell_type": "code",
      "source": [
        "def fit(dataLoader,model,loss_func,optimizer,epochs):\n",
        "\n",
        "  for e in range(1,epochs+1):\n",
        "    for x,y in dataLoader:\n",
        "      pred = model(x)\n",
        "      loss = loss_func(pred,y)\n",
        "      loss.backward()\n",
        "      optimizer.step()\n",
        "      optimizer.zero_grad()\n",
        "\n",
        "    if (e%10==0):\n",
        "      print('loss for the epoch {} is {}'.format(e,loss))\n",
        "\n",
        "\n"
      ],
      "metadata": {
        "id": "OVX2PlAiujDw"
      },
      "execution_count": 15,
      "outputs": []
    },
    {
      "cell_type": "code",
      "source": [
        "fit(trainData,model,loss_func,optimizer,100)"
      ],
      "metadata": {
        "colab": {
          "base_uri": "https://localhost:8080/"
        },
        "id": "562klxxjgQmg",
        "outputId": "16844c1a-7518-4ae2-ed0a-4a0f6c217f7d"
      },
      "execution_count": 17,
      "outputs": [
        {
          "output_type": "stream",
          "name": "stdout",
          "text": [
            "loss for the epoch 10 is 17.130489349365234\n",
            "loss for the epoch 20 is 18.278547286987305\n",
            "loss for the epoch 30 is 9.82712173461914\n",
            "loss for the epoch 40 is 11.525875091552734\n",
            "loss for the epoch 50 is 12.825243949890137\n",
            "loss for the epoch 60 is 13.084991455078125\n",
            "loss for the epoch 70 is 14.66273307800293\n",
            "loss for the epoch 80 is 2.0662455558776855\n",
            "loss for the epoch 90 is 15.29260540008545\n",
            "loss for the epoch 100 is 13.405191421508789\n"
          ]
        }
      ]
    },
    {
      "cell_type": "code",
      "source": [
        "model(torch.tensor([[75, 63, 44.]]))"
      ],
      "metadata": {
        "colab": {
          "base_uri": "https://localhost:8080/"
        },
        "id": "wlyTVm0agYpn",
        "outputId": "c82533e4-0c73-47b3-f9fc-67253605ece7"
      },
      "execution_count": 18,
      "outputs": [
        {
          "output_type": "execute_result",
          "data": {
            "text/plain": [
              "tensor([[53.2267, 67.3384]], grad_fn=<AddmmBackward0>)"
            ]
          },
          "metadata": {},
          "execution_count": 18
        }
      ]
    }
  ]
}